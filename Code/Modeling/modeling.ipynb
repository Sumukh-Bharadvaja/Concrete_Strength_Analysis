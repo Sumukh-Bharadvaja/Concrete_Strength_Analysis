{
 "cells": [
  {
   "cell_type": "markdown",
   "metadata": {},
   "source": [
    "# Feature Engineering , Modelling"
   ]
  },
  {
   "cell_type": "code",
   "execution_count": 1,
   "metadata": {},
   "outputs": [],
   "source": [
    "import pandas as pd\n",
    "import numpy as np\n",
    "\n",
    "import matplotlib.pyplot as plt\n",
    "import seaborn as sns\n",
    "import statsmodels.api as sm\n",
    "\n",
    "from scipy import stats\n",
    "from scipy.stats import zscore\n",
    "\n",
    "from sklearn.model_selection import train_test_split\n",
    "from sklearn.tree import DecisionTreeRegressor\n",
    "from sklearn.linear_model import LinearRegression\n",
    "from sklearn.ensemble import RandomForestRegressor\n",
    "from sklearn.ensemble import GradientBoostingRegressor\n",
    "\n",
    "from sklearn.linear_model import Ridge, RidgeCV, Lasso,LassoCV\n",
    "from sklearn.model_selection import cross_val_score\n",
    "from sklearn.model_selection import KFold\n",
    "from sklearn.metrics import mean_squared_error, r2_score,mean_absolute_error\n",
    "\n",
    "from sklearn.utils import resample\n",
    "\n",
    "# for warnings \n",
    "import warnings\n",
    "warnings.filterwarnings('ignore')"
   ]
  },
  {
   "cell_type": "markdown",
   "metadata": {},
   "source": [
    "## Importing the processed data into dataframe"
   ]
  },
  {
   "cell_type": "code",
   "execution_count": 2,
   "metadata": {},
   "outputs": [
    {
     "data": {
      "text/html": [
       "<div>\n",
       "<style scoped>\n",
       "    .dataframe tbody tr th:only-of-type {\n",
       "        vertical-align: middle;\n",
       "    }\n",
       "\n",
       "    .dataframe tbody tr th {\n",
       "        vertical-align: top;\n",
       "    }\n",
       "\n",
       "    .dataframe thead th {\n",
       "        text-align: right;\n",
       "    }\n",
       "</style>\n",
       "<table border=\"1\" class=\"dataframe\">\n",
       "  <thead>\n",
       "    <tr style=\"text-align: right;\">\n",
       "      <th></th>\n",
       "      <th>Cement</th>\n",
       "      <th>BlastFurnaceSlag</th>\n",
       "      <th>FlyAsh</th>\n",
       "      <th>Water</th>\n",
       "      <th>Superplasticizer</th>\n",
       "      <th>CoarseAggregate</th>\n",
       "      <th>FineAggregate</th>\n",
       "      <th>Age</th>\n",
       "      <th>CompressiveStrength</th>\n",
       "    </tr>\n",
       "  </thead>\n",
       "  <tbody>\n",
       "    <tr>\n",
       "      <th>0</th>\n",
       "      <td>540.0</td>\n",
       "      <td>0.0</td>\n",
       "      <td>0.0</td>\n",
       "      <td>162.0</td>\n",
       "      <td>2.5</td>\n",
       "      <td>1040.0</td>\n",
       "      <td>676.0</td>\n",
       "      <td>28</td>\n",
       "      <td>79.986111</td>\n",
       "    </tr>\n",
       "    <tr>\n",
       "      <th>1</th>\n",
       "      <td>540.0</td>\n",
       "      <td>0.0</td>\n",
       "      <td>0.0</td>\n",
       "      <td>162.0</td>\n",
       "      <td>2.5</td>\n",
       "      <td>1055.0</td>\n",
       "      <td>676.0</td>\n",
       "      <td>28</td>\n",
       "      <td>61.887366</td>\n",
       "    </tr>\n",
       "    <tr>\n",
       "      <th>2</th>\n",
       "      <td>332.5</td>\n",
       "      <td>142.5</td>\n",
       "      <td>0.0</td>\n",
       "      <td>228.0</td>\n",
       "      <td>0.0</td>\n",
       "      <td>932.0</td>\n",
       "      <td>594.0</td>\n",
       "      <td>28</td>\n",
       "      <td>40.269535</td>\n",
       "    </tr>\n",
       "    <tr>\n",
       "      <th>3</th>\n",
       "      <td>332.5</td>\n",
       "      <td>142.5</td>\n",
       "      <td>0.0</td>\n",
       "      <td>228.0</td>\n",
       "      <td>0.0</td>\n",
       "      <td>932.0</td>\n",
       "      <td>594.0</td>\n",
       "      <td>28</td>\n",
       "      <td>41.052780</td>\n",
       "    </tr>\n",
       "    <tr>\n",
       "      <th>4</th>\n",
       "      <td>198.6</td>\n",
       "      <td>132.4</td>\n",
       "      <td>0.0</td>\n",
       "      <td>192.0</td>\n",
       "      <td>0.0</td>\n",
       "      <td>978.4</td>\n",
       "      <td>825.5</td>\n",
       "      <td>28</td>\n",
       "      <td>44.296075</td>\n",
       "    </tr>\n",
       "    <tr>\n",
       "      <th>...</th>\n",
       "      <td>...</td>\n",
       "      <td>...</td>\n",
       "      <td>...</td>\n",
       "      <td>...</td>\n",
       "      <td>...</td>\n",
       "      <td>...</td>\n",
       "      <td>...</td>\n",
       "      <td>...</td>\n",
       "      <td>...</td>\n",
       "    </tr>\n",
       "    <tr>\n",
       "      <th>1025</th>\n",
       "      <td>276.4</td>\n",
       "      <td>116.0</td>\n",
       "      <td>90.3</td>\n",
       "      <td>179.6</td>\n",
       "      <td>8.9</td>\n",
       "      <td>870.1</td>\n",
       "      <td>768.3</td>\n",
       "      <td>28</td>\n",
       "      <td>44.284354</td>\n",
       "    </tr>\n",
       "    <tr>\n",
       "      <th>1026</th>\n",
       "      <td>322.2</td>\n",
       "      <td>0.0</td>\n",
       "      <td>115.6</td>\n",
       "      <td>196.0</td>\n",
       "      <td>10.4</td>\n",
       "      <td>817.9</td>\n",
       "      <td>813.4</td>\n",
       "      <td>28</td>\n",
       "      <td>31.178794</td>\n",
       "    </tr>\n",
       "    <tr>\n",
       "      <th>1027</th>\n",
       "      <td>148.5</td>\n",
       "      <td>139.4</td>\n",
       "      <td>108.6</td>\n",
       "      <td>192.7</td>\n",
       "      <td>6.1</td>\n",
       "      <td>892.4</td>\n",
       "      <td>780.0</td>\n",
       "      <td>28</td>\n",
       "      <td>23.696601</td>\n",
       "    </tr>\n",
       "    <tr>\n",
       "      <th>1028</th>\n",
       "      <td>159.1</td>\n",
       "      <td>186.7</td>\n",
       "      <td>0.0</td>\n",
       "      <td>175.6</td>\n",
       "      <td>11.3</td>\n",
       "      <td>989.6</td>\n",
       "      <td>788.9</td>\n",
       "      <td>28</td>\n",
       "      <td>32.768036</td>\n",
       "    </tr>\n",
       "    <tr>\n",
       "      <th>1029</th>\n",
       "      <td>260.9</td>\n",
       "      <td>100.5</td>\n",
       "      <td>78.3</td>\n",
       "      <td>200.6</td>\n",
       "      <td>8.6</td>\n",
       "      <td>864.5</td>\n",
       "      <td>761.5</td>\n",
       "      <td>28</td>\n",
       "      <td>32.401235</td>\n",
       "    </tr>\n",
       "  </tbody>\n",
       "</table>\n",
       "<p>1030 rows × 9 columns</p>\n",
       "</div>"
      ],
      "text/plain": [
       "      Cement  BlastFurnaceSlag  FlyAsh  Water  Superplasticizer  \\\n",
       "0      540.0               0.0     0.0  162.0               2.5   \n",
       "1      540.0               0.0     0.0  162.0               2.5   \n",
       "2      332.5             142.5     0.0  228.0               0.0   \n",
       "3      332.5             142.5     0.0  228.0               0.0   \n",
       "4      198.6             132.4     0.0  192.0               0.0   \n",
       "...      ...               ...     ...    ...               ...   \n",
       "1025   276.4             116.0    90.3  179.6               8.9   \n",
       "1026   322.2               0.0   115.6  196.0              10.4   \n",
       "1027   148.5             139.4   108.6  192.7               6.1   \n",
       "1028   159.1             186.7     0.0  175.6              11.3   \n",
       "1029   260.9             100.5    78.3  200.6               8.6   \n",
       "\n",
       "      CoarseAggregate  FineAggregate  Age  CompressiveStrength  \n",
       "0              1040.0          676.0   28            79.986111  \n",
       "1              1055.0          676.0   28            61.887366  \n",
       "2               932.0          594.0   28            40.269535  \n",
       "3               932.0          594.0   28            41.052780  \n",
       "4               978.4          825.5   28            44.296075  \n",
       "...               ...            ...  ...                  ...  \n",
       "1025            870.1          768.3   28            44.284354  \n",
       "1026            817.9          813.4   28            31.178794  \n",
       "1027            892.4          780.0   28            23.696601  \n",
       "1028            989.6          788.9   28            32.768036  \n",
       "1029            864.5          761.5   28            32.401235  \n",
       "\n",
       "[1030 rows x 9 columns]"
      ]
     },
     "execution_count": 2,
     "metadata": {},
     "output_type": "execute_result"
    }
   ],
   "source": [
    "final_data= pd.read_csv('Processed_data.csv',delimiter=',')\n",
    "final_data"
   ]
  },
  {
   "cell_type": "markdown",
   "metadata": {},
   "source": [
    "# Simple OLS (Least squares Method)"
   ]
  },
  {
   "cell_type": "code",
   "execution_count": 3,
   "metadata": {},
   "outputs": [
    {
     "data": {
      "text/html": [
       "<table class=\"simpletable\">\n",
       "<caption>OLS Regression Results</caption>\n",
       "<tr>\n",
       "  <th>Dep. Variable:</th>    <td>CompressiveStrength</td> <th>  R-squared:         </th> <td>   0.456</td> \n",
       "</tr>\n",
       "<tr>\n",
       "  <th>Model:</th>                    <td>OLS</td>         <th>  Adj. R-squared:    </th> <td>   0.452</td> \n",
       "</tr>\n",
       "<tr>\n",
       "  <th>Method:</th>              <td>Least Squares</td>    <th>  F-statistic:       </th> <td>   122.5</td> \n",
       "</tr>\n",
       "<tr>\n",
       "  <th>Date:</th>              <td>Thu, 28 Dec 2023</td>   <th>  Prob (F-statistic):</th> <td>1.62e-130</td>\n",
       "</tr>\n",
       "<tr>\n",
       "  <th>Time:</th>                  <td>18:52:20</td>       <th>  Log-Likelihood:    </th> <td> -4047.5</td> \n",
       "</tr>\n",
       "<tr>\n",
       "  <th>No. Observations:</th>       <td>  1030</td>        <th>  AIC:               </th> <td>   8111.</td> \n",
       "</tr>\n",
       "<tr>\n",
       "  <th>Df Residuals:</th>           <td>  1022</td>        <th>  BIC:               </th> <td>   8150.</td> \n",
       "</tr>\n",
       "<tr>\n",
       "  <th>Df Model:</th>               <td>     7</td>        <th>                     </th>     <td> </td>    \n",
       "</tr>\n",
       "<tr>\n",
       "  <th>Covariance Type:</th>       <td>nonrobust</td>      <th>                     </th>     <td> </td>    \n",
       "</tr>\n",
       "</table>\n",
       "<table class=\"simpletable\">\n",
       "<tr>\n",
       "          <td></td>            <th>coef</th>     <th>std err</th>      <th>t</th>      <th>P>|t|</th>  <th>[0.025</th>    <th>0.975]</th>  \n",
       "</tr>\n",
       "<tr>\n",
       "  <th>const</th>            <td>   13.6290</td> <td>   26.834</td> <td>    0.508</td> <td> 0.612</td> <td>  -39.026</td> <td>   66.284</td>\n",
       "</tr>\n",
       "<tr>\n",
       "  <th>Cement</th>           <td>    0.1058</td> <td>    0.009</td> <td>   11.996</td> <td> 0.000</td> <td>    0.088</td> <td>    0.123</td>\n",
       "</tr>\n",
       "<tr>\n",
       "  <th>BlastFurnaceSlag</th> <td>    0.0759</td> <td>    0.010</td> <td>    7.245</td> <td> 0.000</td> <td>    0.055</td> <td>    0.097</td>\n",
       "</tr>\n",
       "<tr>\n",
       "  <th>FlyAsh</th>           <td>    0.0477</td> <td>    0.013</td> <td>    3.666</td> <td> 0.000</td> <td>    0.022</td> <td>    0.073</td>\n",
       "</tr>\n",
       "<tr>\n",
       "  <th>Water</th>            <td>   -0.1197</td> <td>    0.043</td> <td>   -2.761</td> <td> 0.006</td> <td>   -0.205</td> <td>   -0.035</td>\n",
       "</tr>\n",
       "<tr>\n",
       "  <th>Superplasticizer</th> <td>    0.4342</td> <td>    0.123</td> <td>    3.534</td> <td> 0.000</td> <td>    0.193</td> <td>    0.675</td>\n",
       "</tr>\n",
       "<tr>\n",
       "  <th>CoarseAggregate</th>  <td>    0.0056</td> <td>    0.009</td> <td>    0.598</td> <td> 0.550</td> <td>   -0.013</td> <td>    0.024</td>\n",
       "</tr>\n",
       "<tr>\n",
       "  <th>FineAggregate</th>    <td>   -0.0026</td> <td>    0.011</td> <td>   -0.239</td> <td> 0.811</td> <td>   -0.024</td> <td>    0.019</td>\n",
       "</tr>\n",
       "</table>\n",
       "<table class=\"simpletable\">\n",
       "<tr>\n",
       "  <th>Omnibus:</th>       <td>13.271</td> <th>  Durbin-Watson:     </th> <td>   1.239</td>\n",
       "</tr>\n",
       "<tr>\n",
       "  <th>Prob(Omnibus):</th> <td> 0.001</td> <th>  Jarque-Bera (JB):  </th> <td>   8.335</td>\n",
       "</tr>\n",
       "<tr>\n",
       "  <th>Skew:</th>          <td> 0.012</td> <th>  Prob(JB):          </th> <td>  0.0155</td>\n",
       "</tr>\n",
       "<tr>\n",
       "  <th>Kurtosis:</th>      <td> 2.560</td> <th>  Cond. No.          </th> <td>9.00e+04</td>\n",
       "</tr>\n",
       "</table><br/><br/>Notes:<br/>[1] Standard Errors assume that the covariance matrix of the errors is correctly specified.<br/>[2] The condition number is large,  9e+04. This might indicate that there are<br/>strong multicollinearity or other numerical problems."
      ],
      "text/plain": [
       "<class 'statsmodels.iolib.summary.Summary'>\n",
       "\"\"\"\n",
       "                             OLS Regression Results                            \n",
       "===============================================================================\n",
       "Dep. Variable:     CompressiveStrength   R-squared:                       0.456\n",
       "Model:                             OLS   Adj. R-squared:                  0.452\n",
       "Method:                  Least Squares   F-statistic:                     122.5\n",
       "Date:                 Thu, 28 Dec 2023   Prob (F-statistic):          1.62e-130\n",
       "Time:                         18:52:20   Log-Likelihood:                -4047.5\n",
       "No. Observations:                 1030   AIC:                             8111.\n",
       "Df Residuals:                     1022   BIC:                             8150.\n",
       "Df Model:                            7                                         \n",
       "Covariance Type:             nonrobust                                         \n",
       "====================================================================================\n",
       "                       coef    std err          t      P>|t|      [0.025      0.975]\n",
       "------------------------------------------------------------------------------------\n",
       "const               13.6290     26.834      0.508      0.612     -39.026      66.284\n",
       "Cement               0.1058      0.009     11.996      0.000       0.088       0.123\n",
       "BlastFurnaceSlag     0.0759      0.010      7.245      0.000       0.055       0.097\n",
       "FlyAsh               0.0477      0.013      3.666      0.000       0.022       0.073\n",
       "Water               -0.1197      0.043     -2.761      0.006      -0.205      -0.035\n",
       "Superplasticizer     0.4342      0.123      3.534      0.000       0.193       0.675\n",
       "CoarseAggregate      0.0056      0.009      0.598      0.550      -0.013       0.024\n",
       "FineAggregate       -0.0026      0.011     -0.239      0.811      -0.024       0.019\n",
       "==============================================================================\n",
       "Omnibus:                       13.271   Durbin-Watson:                   1.239\n",
       "Prob(Omnibus):                  0.001   Jarque-Bera (JB):                8.335\n",
       "Skew:                           0.012   Prob(JB):                       0.0155\n",
       "Kurtosis:                       2.560   Cond. No.                     9.00e+04\n",
       "==============================================================================\n",
       "\n",
       "Notes:\n",
       "[1] Standard Errors assume that the covariance matrix of the errors is correctly specified.\n",
       "[2] The condition number is large,  9e+04. This might indicate that there are\n",
       "strong multicollinearity or other numerical problems.\n",
       "\"\"\""
      ]
     },
     "execution_count": 3,
     "metadata": {},
     "output_type": "execute_result"
    }
   ],
   "source": [
    "x=final_data.iloc[:,0:7]\n",
    "y=final_data.iloc[:,8]\n",
    "\n",
    "x1 = sm.add_constant(x)\n",
    "result=sm.OLS(y,x1).fit()\n",
    "result.summary()"
   ]
  },
  {
   "cell_type": "markdown",
   "metadata": {},
   "source": [
    "## Observation"
   ]
  },
  {
   "cell_type": "markdown",
   "metadata": {},
   "source": [
    "- OLS regression is simple and common method used to find relationship between a dependent variable and many independent variable.\n",
    "- This method aims to minimise the sum of square od the residuals to find best fitted line\n",
    "- The R-squared value indiacates the amount of variablility explained by the model. In this case its around 45.6% which is quite low.\n",
    "- Slightly lower than r-squared , adjusted for the number of predictors. In this case its around 45.2%\n",
    "- F- statistic indicates the significance of the model. In this case, its high which implies that the model is significant.\n",
    "- AIC, BIC is higher for this due to variablitity of data, which might contradict the previous sentence suggesting the model may be insignificant.\n",
    "- Ombinus test suggest the  skewness and kurtosis of the residuals. In this case, 13.71 is not close to zero indicating might be not normally distributed\n",
    "- Skewness of the model is 0.012 which is quite close to zero. This usggest that the residuals are fairly symmetric.\n",
    "- Kurtosis ('Tailedness') of the residuals seems to be 2.560 which is less than 3 ,indicates that the distribution is platykurtic in nature. This means that the tails are lighter than the normal distribution, implying fewer outliers.\n",
    "- Dublin-Watson test indicates the statistc for autocorelation of residuals. Values near to zero indicate positive correlation, and values near to 4 indicate negative correaltion. In this model, the value is around 1.239 suggesting slightly positive corelation amongst residuals.\n",
    "- Jarque-Bera test is test of normality of residuals. A large JB test  value compared to the degree of freedom indicates that the residuals are not normally distributed. in this case its around 8.335 , which indicates non-normality of residuals.\n"
   ]
  },
  {
   "cell_type": "markdown",
   "metadata": {},
   "source": [
    "From the above explanation it is necessary to do feature engineering using decision tree. I have choosen decision tree as it doesn't tend to overfit the model based on the number of variables as found in random forest."
   ]
  },
  {
   "cell_type": "markdown",
   "metadata": {},
   "source": [
    "## Feature Engineering using Decision Tree"
   ]
  },
  {
   "cell_type": "markdown",
   "metadata": {},
   "source": [
    "Scaling the Model"
   ]
  },
  {
   "cell_type": "code",
   "execution_count": 4,
   "metadata": {},
   "outputs": [],
   "source": [
    "final_data_z = final_data.apply(zscore)\n",
    "final_data_z=pd.DataFrame(final_data_z,columns=final_data_z.columns)"
   ]
  },
  {
   "cell_type": "markdown",
   "metadata": {},
   "source": [
    "Here, all the attributes in the same scale(unit) except the age attribute. Hence, we are scaling the attributes. We are using zscore for scaling."
   ]
  },
  {
   "cell_type": "markdown",
   "metadata": {},
   "source": [
    "Splitting the data into independent and dependent attributes\n",
    "\n"
   ]
  },
  {
   "cell_type": "code",
   "execution_count": 5,
   "metadata": {},
   "outputs": [],
   "source": [
    "X=final_data_z.iloc[:,0:8]\n",
    "y = final_data_z.iloc[:,8]"
   ]
  },
  {
   "cell_type": "markdown",
   "metadata": {},
   "source": [
    "Train test split is sklearn object where it splits the data without any bias , and shuffles it."
   ]
  },
  {
   "cell_type": "code",
   "execution_count": 6,
   "metadata": {},
   "outputs": [],
   "source": [
    "X_train, X_test, y_train, y_test = train_test_split(X,y, test_size = 0.3, random_state = 1,shuffle=True)"
   ]
  },
  {
   "cell_type": "markdown",
   "metadata": {},
   "source": [
    "### Decision Tree- Model Fitting"
   ]
  },
  {
   "cell_type": "code",
   "execution_count": 7,
   "metadata": {},
   "outputs": [
    {
     "data": {
      "text/html": [
       "<style>#sk-container-id-1 {color: black;background-color: white;}#sk-container-id-1 pre{padding: 0;}#sk-container-id-1 div.sk-toggleable {background-color: white;}#sk-container-id-1 label.sk-toggleable__label {cursor: pointer;display: block;width: 100%;margin-bottom: 0;padding: 0.3em;box-sizing: border-box;text-align: center;}#sk-container-id-1 label.sk-toggleable__label-arrow:before {content: \"▸\";float: left;margin-right: 0.25em;color: #696969;}#sk-container-id-1 label.sk-toggleable__label-arrow:hover:before {color: black;}#sk-container-id-1 div.sk-estimator:hover label.sk-toggleable__label-arrow:before {color: black;}#sk-container-id-1 div.sk-toggleable__content {max-height: 0;max-width: 0;overflow: hidden;text-align: left;background-color: #f0f8ff;}#sk-container-id-1 div.sk-toggleable__content pre {margin: 0.2em;color: black;border-radius: 0.25em;background-color: #f0f8ff;}#sk-container-id-1 input.sk-toggleable__control:checked~div.sk-toggleable__content {max-height: 200px;max-width: 100%;overflow: auto;}#sk-container-id-1 input.sk-toggleable__control:checked~label.sk-toggleable__label-arrow:before {content: \"▾\";}#sk-container-id-1 div.sk-estimator input.sk-toggleable__control:checked~label.sk-toggleable__label {background-color: #d4ebff;}#sk-container-id-1 div.sk-label input.sk-toggleable__control:checked~label.sk-toggleable__label {background-color: #d4ebff;}#sk-container-id-1 input.sk-hidden--visually {border: 0;clip: rect(1px 1px 1px 1px);clip: rect(1px, 1px, 1px, 1px);height: 1px;margin: -1px;overflow: hidden;padding: 0;position: absolute;width: 1px;}#sk-container-id-1 div.sk-estimator {font-family: monospace;background-color: #f0f8ff;border: 1px dotted black;border-radius: 0.25em;box-sizing: border-box;margin-bottom: 0.5em;}#sk-container-id-1 div.sk-estimator:hover {background-color: #d4ebff;}#sk-container-id-1 div.sk-parallel-item::after {content: \"\";width: 100%;border-bottom: 1px solid gray;flex-grow: 1;}#sk-container-id-1 div.sk-label:hover label.sk-toggleable__label {background-color: #d4ebff;}#sk-container-id-1 div.sk-serial::before {content: \"\";position: absolute;border-left: 1px solid gray;box-sizing: border-box;top: 0;bottom: 0;left: 50%;z-index: 0;}#sk-container-id-1 div.sk-serial {display: flex;flex-direction: column;align-items: center;background-color: white;padding-right: 0.2em;padding-left: 0.2em;position: relative;}#sk-container-id-1 div.sk-item {position: relative;z-index: 1;}#sk-container-id-1 div.sk-parallel {display: flex;align-items: stretch;justify-content: center;background-color: white;position: relative;}#sk-container-id-1 div.sk-item::before, #sk-container-id-1 div.sk-parallel-item::before {content: \"\";position: absolute;border-left: 1px solid gray;box-sizing: border-box;top: 0;bottom: 0;left: 50%;z-index: -1;}#sk-container-id-1 div.sk-parallel-item {display: flex;flex-direction: column;z-index: 1;position: relative;background-color: white;}#sk-container-id-1 div.sk-parallel-item:first-child::after {align-self: flex-end;width: 50%;}#sk-container-id-1 div.sk-parallel-item:last-child::after {align-self: flex-start;width: 50%;}#sk-container-id-1 div.sk-parallel-item:only-child::after {width: 0;}#sk-container-id-1 div.sk-dashed-wrapped {border: 1px dashed gray;margin: 0 0.4em 0.5em 0.4em;box-sizing: border-box;padding-bottom: 0.4em;background-color: white;}#sk-container-id-1 div.sk-label label {font-family: monospace;font-weight: bold;display: inline-block;line-height: 1.2em;}#sk-container-id-1 div.sk-label-container {text-align: center;}#sk-container-id-1 div.sk-container {/* jupyter's `normalize.less` sets `[hidden] { display: none; }` but bootstrap.min.css set `[hidden] { display: none !important; }` so we also need the `!important` here to be able to override the default hidden behavior on the sphinx rendered scikit-learn.org. See: https://github.com/scikit-learn/scikit-learn/issues/21755 */display: inline-block !important;position: relative;}#sk-container-id-1 div.sk-text-repr-fallback {display: none;}</style><div id=\"sk-container-id-1\" class=\"sk-top-container\"><div class=\"sk-text-repr-fallback\"><pre>DecisionTreeRegressor()</pre><b>In a Jupyter environment, please rerun this cell to show the HTML representation or trust the notebook. <br />On GitHub, the HTML representation is unable to render, please try loading this page with nbviewer.org.</b></div><div class=\"sk-container\" hidden><div class=\"sk-item\"><div class=\"sk-estimator sk-toggleable\"><input class=\"sk-toggleable__control sk-hidden--visually\" id=\"sk-estimator-id-1\" type=\"checkbox\" checked><label for=\"sk-estimator-id-1\" class=\"sk-toggleable__label sk-toggleable__label-arrow\">DecisionTreeRegressor</label><div class=\"sk-toggleable__content\"><pre>DecisionTreeRegressor()</pre></div></div></div></div></div>"
      ],
      "text/plain": [
       "DecisionTreeRegressor()"
      ]
     },
     "execution_count": 7,
     "metadata": {},
     "output_type": "execute_result"
    }
   ],
   "source": [
    "dt_model = DecisionTreeRegressor()\n",
    "dt_model.fit(X_train , y_train)"
   ]
  },
  {
   "cell_type": "markdown",
   "metadata": {},
   "source": [
    "Let us now print the feature importance of all the predictor variables."
   ]
  },
  {
   "cell_type": "code",
   "execution_count": 8,
   "metadata": {},
   "outputs": [
    {
     "name": "stdout",
     "output_type": "stream",
     "text": [
      "Feature importances: \n",
      "                        Imp\n",
      "Cement            0.308616\n",
      "BlastFurnaceSlag  0.059058\n",
      "FlyAsh            0.008240\n",
      "Water             0.122817\n",
      "Superplasticizer  0.052607\n",
      "CoarseAggregate   0.025965\n",
      "FineAggregate     0.049864\n",
      "Age               0.372833\n"
     ]
    }
   ],
   "source": [
    "print('Feature importances: \\n',pd.DataFrame(dt_model.feature_importances_,columns=['Imp'],index=X_train.columns))"
   ]
  },
  {
   "cell_type": "markdown",
   "metadata": {},
   "source": [
    "From the decision tree regressor, we found out the most important features which can explain the dynamics of the Compressive strength are\n",
    " - Age\n",
    " - Cement in kg for m^3 of mixture \n",
    " - Water in kg for m^3 of mixture\n",
    "This confirms the EDA results except in case of coarse aggregate.\n",
    "\n",
    "Further analysis needs to be done for the followin features."
   ]
  },
  {
   "cell_type": "code",
   "execution_count": 9,
   "metadata": {},
   "outputs": [],
   "source": [
    "def model_performance(X_train, X_test, y_train, y_test, model):\n",
    "    try:   \n",
    "        # Fitting the model\n",
    "        model.fit(X_train, y_train)\n",
    "        \n",
    "        # Predicting on test data\n",
    "        y_pred = model.predict(X_test)\n",
    "        \n",
    "        # Calculating the metrics\n",
    "        mse = mean_squared_error(y_test, y_pred)\n",
    "        rmse = np.sqrt(mse)\n",
    "        r2 = r2_score(y_test, y_pred)\n",
    "\n",
    "        # For linear models, calculating p-value and t-statistic\n",
    "        if isinstance(model, LinearRegression):\n",
    "            X_train_sm = sm.add_constant(X_train)  # adding a constant\n",
    "            model_sm = sm.OLS(y_train, X_train_sm).fit()\n",
    "            p_values = model_sm.pvalues\n",
    "            t_stats = model_sm.tvalues\n",
    "            return mse, rmse, r2, p_values, t_stats\n",
    "        else:\n",
    "            # For non-linear models like Random Forest, we return None for p-value and t-statistic\n",
    "            return mse, rmse, r2, None, None\n",
    "\n",
    "    \n",
    "    except Exception as e:\n",
    "        print(f\"An error occurred: {e}\")"
   ]
  },
  {
   "cell_type": "code",
   "execution_count": 10,
   "metadata": {},
   "outputs": [
    {
     "data": {
      "text/plain": [
       "(0.2159331760409755, 0.4646861048503339, 0.7703077119190066, None, None)"
      ]
     },
     "execution_count": 10,
     "metadata": {},
     "output_type": "execute_result"
    }
   ],
   "source": [
    "\n",
    "metrics_dt= model_performance(X_train, X_test, y_train, y_test,dt_model)\n",
    "metrics_dt"
   ]
  },
  {
   "cell_type": "markdown",
   "metadata": {},
   "source": [
    "The error rate for test data set is as shown above.\n",
    "- The R2 score explains around 78.71% of variance in the data with rmse of 0.4430 \n",
    "- The model might be overfitting  which can be checked by comparing the values of train data with the test data."
   ]
  },
  {
   "cell_type": "markdown",
   "metadata": {},
   "source": [
    "To check the reliability of the model we will use train test r2 score."
   ]
  },
  {
   "cell_type": "code",
   "execution_count": 11,
   "metadata": {},
   "outputs": [
    {
     "name": "stdout",
     "output_type": "stream",
     "text": [
      "R2 score on Training data using Decision tree: 0.9938748100766917\n",
      "R2 Score on Test data using Decision Tree: 0.7703077119190066\n"
     ]
    }
   ],
   "source": [
    "r2_train_dt=dt_model.score(X_train,y_train)\n",
    "r2_test_dt=metrics_dt[2]\n",
    "print('R2 score on Training data using Decision tree:',r2_train_dt)\n",
    "print('R2 Score on Test data using Decision Tree:',r2_test_dt)"
   ]
  },
  {
   "cell_type": "markdown",
   "metadata": {},
   "source": [
    "Therefore the model must be overfitting due to variablity in data since it is predicting around 99% accurately in train data and accuray drops to 78%"
   ]
  },
  {
   "cell_type": "markdown",
   "metadata": {},
   "source": [
    "Using the feature importance of the decision tree model we can further analyse dynamics using other Ensemble Learning."
   ]
  },
  {
   "cell_type": "code",
   "execution_count": 12,
   "metadata": {},
   "outputs": [
    {
     "data": {
      "text/html": [
       "<style>#sk-container-id-2 {color: black;background-color: white;}#sk-container-id-2 pre{padding: 0;}#sk-container-id-2 div.sk-toggleable {background-color: white;}#sk-container-id-2 label.sk-toggleable__label {cursor: pointer;display: block;width: 100%;margin-bottom: 0;padding: 0.3em;box-sizing: border-box;text-align: center;}#sk-container-id-2 label.sk-toggleable__label-arrow:before {content: \"▸\";float: left;margin-right: 0.25em;color: #696969;}#sk-container-id-2 label.sk-toggleable__label-arrow:hover:before {color: black;}#sk-container-id-2 div.sk-estimator:hover label.sk-toggleable__label-arrow:before {color: black;}#sk-container-id-2 div.sk-toggleable__content {max-height: 0;max-width: 0;overflow: hidden;text-align: left;background-color: #f0f8ff;}#sk-container-id-2 div.sk-toggleable__content pre {margin: 0.2em;color: black;border-radius: 0.25em;background-color: #f0f8ff;}#sk-container-id-2 input.sk-toggleable__control:checked~div.sk-toggleable__content {max-height: 200px;max-width: 100%;overflow: auto;}#sk-container-id-2 input.sk-toggleable__control:checked~label.sk-toggleable__label-arrow:before {content: \"▾\";}#sk-container-id-2 div.sk-estimator input.sk-toggleable__control:checked~label.sk-toggleable__label {background-color: #d4ebff;}#sk-container-id-2 div.sk-label input.sk-toggleable__control:checked~label.sk-toggleable__label {background-color: #d4ebff;}#sk-container-id-2 input.sk-hidden--visually {border: 0;clip: rect(1px 1px 1px 1px);clip: rect(1px, 1px, 1px, 1px);height: 1px;margin: -1px;overflow: hidden;padding: 0;position: absolute;width: 1px;}#sk-container-id-2 div.sk-estimator {font-family: monospace;background-color: #f0f8ff;border: 1px dotted black;border-radius: 0.25em;box-sizing: border-box;margin-bottom: 0.5em;}#sk-container-id-2 div.sk-estimator:hover {background-color: #d4ebff;}#sk-container-id-2 div.sk-parallel-item::after {content: \"\";width: 100%;border-bottom: 1px solid gray;flex-grow: 1;}#sk-container-id-2 div.sk-label:hover label.sk-toggleable__label {background-color: #d4ebff;}#sk-container-id-2 div.sk-serial::before {content: \"\";position: absolute;border-left: 1px solid gray;box-sizing: border-box;top: 0;bottom: 0;left: 50%;z-index: 0;}#sk-container-id-2 div.sk-serial {display: flex;flex-direction: column;align-items: center;background-color: white;padding-right: 0.2em;padding-left: 0.2em;position: relative;}#sk-container-id-2 div.sk-item {position: relative;z-index: 1;}#sk-container-id-2 div.sk-parallel {display: flex;align-items: stretch;justify-content: center;background-color: white;position: relative;}#sk-container-id-2 div.sk-item::before, #sk-container-id-2 div.sk-parallel-item::before {content: \"\";position: absolute;border-left: 1px solid gray;box-sizing: border-box;top: 0;bottom: 0;left: 50%;z-index: -1;}#sk-container-id-2 div.sk-parallel-item {display: flex;flex-direction: column;z-index: 1;position: relative;background-color: white;}#sk-container-id-2 div.sk-parallel-item:first-child::after {align-self: flex-end;width: 50%;}#sk-container-id-2 div.sk-parallel-item:last-child::after {align-self: flex-start;width: 50%;}#sk-container-id-2 div.sk-parallel-item:only-child::after {width: 0;}#sk-container-id-2 div.sk-dashed-wrapped {border: 1px dashed gray;margin: 0 0.4em 0.5em 0.4em;box-sizing: border-box;padding-bottom: 0.4em;background-color: white;}#sk-container-id-2 div.sk-label label {font-family: monospace;font-weight: bold;display: inline-block;line-height: 1.2em;}#sk-container-id-2 div.sk-label-container {text-align: center;}#sk-container-id-2 div.sk-container {/* jupyter's `normalize.less` sets `[hidden] { display: none; }` but bootstrap.min.css set `[hidden] { display: none !important; }` so we also need the `!important` here to be able to override the default hidden behavior on the sphinx rendered scikit-learn.org. See: https://github.com/scikit-learn/scikit-learn/issues/21755 */display: inline-block !important;position: relative;}#sk-container-id-2 div.sk-text-repr-fallback {display: none;}</style><div id=\"sk-container-id-2\" class=\"sk-top-container\"><div class=\"sk-text-repr-fallback\"><pre>DecisionTreeRegressor()</pre><b>In a Jupyter environment, please rerun this cell to show the HTML representation or trust the notebook. <br />On GitHub, the HTML representation is unable to render, please try loading this page with nbviewer.org.</b></div><div class=\"sk-container\" hidden><div class=\"sk-item\"><div class=\"sk-estimator sk-toggleable\"><input class=\"sk-toggleable__control sk-hidden--visually\" id=\"sk-estimator-id-2\" type=\"checkbox\" checked><label for=\"sk-estimator-id-2\" class=\"sk-toggleable__label sk-toggleable__label-arrow\">DecisionTreeRegressor</label><div class=\"sk-toggleable__content\"><pre>DecisionTreeRegressor()</pre></div></div></div></div></div>"
      ],
      "text/plain": [
       "DecisionTreeRegressor()"
      ]
     },
     "execution_count": 12,
     "metadata": {},
     "output_type": "execute_result"
    }
   ],
   "source": [
    "model_dt_1=DecisionTreeRegressor()\n",
    "\n",
    "data_dt=final_data_z.copy()\n",
    "\n",
    "X_dt= data_dt.drop(['FlyAsh','CoarseAggregate','FineAggregate','CompressiveStrength'],axis=1)\n",
    "y_dt = data_dt.iloc[:,8]\n",
    "\n",
    "X_train_dt,X_test_dt,y_train_dt,y_test_dt= train_test_split(X_dt,y_dt, test_size = 0.3, random_state = 1,shuffle=True)\n",
    "\n",
    "model_dt_1.fit(X_train_dt , y_train_dt)\n"
   ]
  },
  {
   "cell_type": "code",
   "execution_count": 13,
   "metadata": {},
   "outputs": [],
   "source": [
    "metrics_dt_final=model_performance(X_train_dt,X_test_dt,y_train_dt,y_test_dt,model_dt_1)"
   ]
  },
  {
   "cell_type": "code",
   "execution_count": 14,
   "metadata": {},
   "outputs": [
    {
     "data": {
      "text/plain": [
       "(0.2050143263827501, 0.45278507747357366, 0.7819223030957428, None, None)"
      ]
     },
     "execution_count": 14,
     "metadata": {},
     "output_type": "execute_result"
    }
   ],
   "source": [
    "metrics_dt_final"
   ]
  },
  {
   "cell_type": "code",
   "execution_count": 15,
   "metadata": {},
   "outputs": [
    {
     "name": "stdout",
     "output_type": "stream",
     "text": [
      "Feature importances: \n",
      "                        Imp\n",
      "Cement            0.348969\n",
      "BlastFurnaceSlag  0.073836\n",
      "Water             0.139069\n",
      "Superplasticizer  0.061187\n",
      "Age               0.376937\n"
     ]
    }
   ],
   "source": [
    "print('Feature importances: \\n',pd.DataFrame(model_dt_1.feature_importances_,columns=['Imp'],index=X_train_dt.columns))"
   ]
  },
  {
   "cell_type": "code",
   "execution_count": 16,
   "metadata": {},
   "outputs": [
    {
     "name": "stdout",
     "output_type": "stream",
     "text": [
      "R2 score on Training data using Decision tree: 0.9919795459520203\n",
      "R2 Score on Test data using Decision Tree: 0.7819223030957428\n"
     ]
    }
   ],
   "source": [
    "r2_train_dt_final=model_dt_1.score(X_train_dt,y_train_dt)\n",
    "r2_test_dt_final=metrics_dt_final[2]\n",
    "print('R2 score on Training data using Decision tree:',r2_train_dt_final)\n",
    "print('R2 Score on Test data using Decision Tree:',r2_test_dt_final)"
   ]
  },
  {
   "cell_type": "markdown",
   "metadata": {},
   "source": [
    "The model here as well is overfitting , Lets now cnduct k-fold Cross validation for the decision tree model"
   ]
  },
  {
   "cell_type": "code",
   "execution_count": 17,
   "metadata": {},
   "outputs": [
    {
     "name": "stdout",
     "output_type": "stream",
     "text": [
      "Average accuracy:  0.8629040522812886\n",
      "Standard Deviation:  0.04360048506724582\n"
     ]
    }
   ],
   "source": [
    "num_folds = 18\n",
    "seed = 77\n",
    "kfold = KFold(n_splits=num_folds, random_state=seed,shuffle=True)\n",
    "results1 = cross_val_score(model_dt_1,X_dt, y_dt, cv=kfold)\n",
    "accuracy=np.mean(abs(results1))\n",
    "print('Average accuracy: ',accuracy)\n",
    "print('Standard Deviation: ',results1.std())"
   ]
  },
  {
   "cell_type": "markdown",
   "metadata": {},
   "source": [
    "The accuracy of k-folds decision tree for the feature selected increased from 79.82 to 85.4465."
   ]
  },
  {
   "cell_type": "markdown",
   "metadata": {},
   "source": [
    "## Random Forest "
   ]
  },
  {
   "cell_type": "markdown",
   "metadata": {},
   "source": [
    "Using the same approach used in decision tree lets do the random forest for selected features."
   ]
  },
  {
   "cell_type": "code",
   "execution_count": 18,
   "metadata": {},
   "outputs": [],
   "source": [
    "model_rf= RandomForestRegressor()"
   ]
  },
  {
   "cell_type": "markdown",
   "metadata": {},
   "source": [
    "We can use the same features for training the Random forest model as well"
   ]
  },
  {
   "cell_type": "code",
   "execution_count": 19,
   "metadata": {},
   "outputs": [
    {
     "data": {
      "text/html": [
       "<style>#sk-container-id-3 {color: black;background-color: white;}#sk-container-id-3 pre{padding: 0;}#sk-container-id-3 div.sk-toggleable {background-color: white;}#sk-container-id-3 label.sk-toggleable__label {cursor: pointer;display: block;width: 100%;margin-bottom: 0;padding: 0.3em;box-sizing: border-box;text-align: center;}#sk-container-id-3 label.sk-toggleable__label-arrow:before {content: \"▸\";float: left;margin-right: 0.25em;color: #696969;}#sk-container-id-3 label.sk-toggleable__label-arrow:hover:before {color: black;}#sk-container-id-3 div.sk-estimator:hover label.sk-toggleable__label-arrow:before {color: black;}#sk-container-id-3 div.sk-toggleable__content {max-height: 0;max-width: 0;overflow: hidden;text-align: left;background-color: #f0f8ff;}#sk-container-id-3 div.sk-toggleable__content pre {margin: 0.2em;color: black;border-radius: 0.25em;background-color: #f0f8ff;}#sk-container-id-3 input.sk-toggleable__control:checked~div.sk-toggleable__content {max-height: 200px;max-width: 100%;overflow: auto;}#sk-container-id-3 input.sk-toggleable__control:checked~label.sk-toggleable__label-arrow:before {content: \"▾\";}#sk-container-id-3 div.sk-estimator input.sk-toggleable__control:checked~label.sk-toggleable__label {background-color: #d4ebff;}#sk-container-id-3 div.sk-label input.sk-toggleable__control:checked~label.sk-toggleable__label {background-color: #d4ebff;}#sk-container-id-3 input.sk-hidden--visually {border: 0;clip: rect(1px 1px 1px 1px);clip: rect(1px, 1px, 1px, 1px);height: 1px;margin: -1px;overflow: hidden;padding: 0;position: absolute;width: 1px;}#sk-container-id-3 div.sk-estimator {font-family: monospace;background-color: #f0f8ff;border: 1px dotted black;border-radius: 0.25em;box-sizing: border-box;margin-bottom: 0.5em;}#sk-container-id-3 div.sk-estimator:hover {background-color: #d4ebff;}#sk-container-id-3 div.sk-parallel-item::after {content: \"\";width: 100%;border-bottom: 1px solid gray;flex-grow: 1;}#sk-container-id-3 div.sk-label:hover label.sk-toggleable__label {background-color: #d4ebff;}#sk-container-id-3 div.sk-serial::before {content: \"\";position: absolute;border-left: 1px solid gray;box-sizing: border-box;top: 0;bottom: 0;left: 50%;z-index: 0;}#sk-container-id-3 div.sk-serial {display: flex;flex-direction: column;align-items: center;background-color: white;padding-right: 0.2em;padding-left: 0.2em;position: relative;}#sk-container-id-3 div.sk-item {position: relative;z-index: 1;}#sk-container-id-3 div.sk-parallel {display: flex;align-items: stretch;justify-content: center;background-color: white;position: relative;}#sk-container-id-3 div.sk-item::before, #sk-container-id-3 div.sk-parallel-item::before {content: \"\";position: absolute;border-left: 1px solid gray;box-sizing: border-box;top: 0;bottom: 0;left: 50%;z-index: -1;}#sk-container-id-3 div.sk-parallel-item {display: flex;flex-direction: column;z-index: 1;position: relative;background-color: white;}#sk-container-id-3 div.sk-parallel-item:first-child::after {align-self: flex-end;width: 50%;}#sk-container-id-3 div.sk-parallel-item:last-child::after {align-self: flex-start;width: 50%;}#sk-container-id-3 div.sk-parallel-item:only-child::after {width: 0;}#sk-container-id-3 div.sk-dashed-wrapped {border: 1px dashed gray;margin: 0 0.4em 0.5em 0.4em;box-sizing: border-box;padding-bottom: 0.4em;background-color: white;}#sk-container-id-3 div.sk-label label {font-family: monospace;font-weight: bold;display: inline-block;line-height: 1.2em;}#sk-container-id-3 div.sk-label-container {text-align: center;}#sk-container-id-3 div.sk-container {/* jupyter's `normalize.less` sets `[hidden] { display: none; }` but bootstrap.min.css set `[hidden] { display: none !important; }` so we also need the `!important` here to be able to override the default hidden behavior on the sphinx rendered scikit-learn.org. See: https://github.com/scikit-learn/scikit-learn/issues/21755 */display: inline-block !important;position: relative;}#sk-container-id-3 div.sk-text-repr-fallback {display: none;}</style><div id=\"sk-container-id-3\" class=\"sk-top-container\"><div class=\"sk-text-repr-fallback\"><pre>RandomForestRegressor()</pre><b>In a Jupyter environment, please rerun this cell to show the HTML representation or trust the notebook. <br />On GitHub, the HTML representation is unable to render, please try loading this page with nbviewer.org.</b></div><div class=\"sk-container\" hidden><div class=\"sk-item\"><div class=\"sk-estimator sk-toggleable\"><input class=\"sk-toggleable__control sk-hidden--visually\" id=\"sk-estimator-id-3\" type=\"checkbox\" checked><label for=\"sk-estimator-id-3\" class=\"sk-toggleable__label sk-toggleable__label-arrow\">RandomForestRegressor</label><div class=\"sk-toggleable__content\"><pre>RandomForestRegressor()</pre></div></div></div></div></div>"
      ],
      "text/plain": [
       "RandomForestRegressor()"
      ]
     },
     "execution_count": 19,
     "metadata": {},
     "output_type": "execute_result"
    }
   ],
   "source": [
    "model_rf.fit(X_train_dt,y_train_dt)\n"
   ]
  },
  {
   "cell_type": "code",
   "execution_count": 20,
   "metadata": {},
   "outputs": [
    {
     "data": {
      "text/plain": [
       "(0.11852955988256907, 0.3442812220882357, 0.8739178188649708, None, None)"
      ]
     },
     "execution_count": 20,
     "metadata": {},
     "output_type": "execute_result"
    }
   ],
   "source": [
    "metrics_rf=model_performance(X_train_dt,X_test_dt,y_train_dt,y_test_dt,model_rf)\n",
    "metrics_rf"
   ]
  },
  {
   "cell_type": "code",
   "execution_count": 21,
   "metadata": {},
   "outputs": [
    {
     "name": "stdout",
     "output_type": "stream",
     "text": [
      "R2 score on Training data using Random Forest: 0.9804415598895991\n",
      "R2 Score on Test data using Random Forest: 0.8739178188649708\n"
     ]
    }
   ],
   "source": [
    "r2_train_rf=model_rf.score(X_train_dt,y_train_dt)\n",
    "r2_test_rf=metrics_rf[2]\n",
    "print('R2 score on Training data using Random Forest:',r2_train_rf)\n",
    "print('R2 Score on Test data using Random Forest:',r2_test_rf)"
   ]
  },
  {
   "cell_type": "markdown",
   "metadata": {},
   "source": [
    "The model seems to be slightly overfitting as accuracy of train data is more than test data"
   ]
  },
  {
   "cell_type": "markdown",
   "metadata": {},
   "source": [
    "## Random forest - k fold Cross validation"
   ]
  },
  {
   "cell_type": "code",
   "execution_count": 22,
   "metadata": {},
   "outputs": [
    {
     "name": "stdout",
     "output_type": "stream",
     "text": [
      "Average accuracy:  0.9066385097169971\n",
      "Standard Deviation:  0.03439407770340155\n"
     ]
    }
   ],
   "source": [
    "num_folds = 18\n",
    "seed = 77\n",
    "kfold = KFold(n_splits=num_folds, random_state=seed,shuffle=True)\n",
    "results2 = cross_val_score(model_rf,X_dt, y_dt, cv=kfold)\n",
    "accuracy_rf=np.mean(abs(results2))\n",
    "print('Average accuracy: ',accuracy_rf)\n",
    "print('Standard Deviation: ',results2.std())"
   ]
  },
  {
   "cell_type": "markdown",
   "metadata": {},
   "source": [
    "The accuracy of k-folds random forest for the feature selected increased from 87.90 to 90.695."
   ]
  },
  {
   "cell_type": "markdown",
   "metadata": {},
   "source": [
    "Since there is alot of noise in the models selected above, this has resulted in more overfitting the model. In order to reduce the noise at each node of the tree or at each tree gradient boosting can be a special technique where it prunes the tree based on analysing each of tree errors. This can help o capture more complex pattern in the data as well."
   ]
  },
  {
   "cell_type": "markdown",
   "metadata": {},
   "source": [
    "## Gradient  Boosting Regressor"
   ]
  },
  {
   "cell_type": "code",
   "execution_count": 23,
   "metadata": {},
   "outputs": [],
   "source": [
    "model_gbr= GradientBoostingRegressor()"
   ]
  },
  {
   "cell_type": "markdown",
   "metadata": {},
   "source": [
    "We can use the same features for training the Gradient Boosting regressor model as well"
   ]
  },
  {
   "cell_type": "code",
   "execution_count": 24,
   "metadata": {},
   "outputs": [
    {
     "data": {
      "text/html": [
       "<style>#sk-container-id-4 {color: black;background-color: white;}#sk-container-id-4 pre{padding: 0;}#sk-container-id-4 div.sk-toggleable {background-color: white;}#sk-container-id-4 label.sk-toggleable__label {cursor: pointer;display: block;width: 100%;margin-bottom: 0;padding: 0.3em;box-sizing: border-box;text-align: center;}#sk-container-id-4 label.sk-toggleable__label-arrow:before {content: \"▸\";float: left;margin-right: 0.25em;color: #696969;}#sk-container-id-4 label.sk-toggleable__label-arrow:hover:before {color: black;}#sk-container-id-4 div.sk-estimator:hover label.sk-toggleable__label-arrow:before {color: black;}#sk-container-id-4 div.sk-toggleable__content {max-height: 0;max-width: 0;overflow: hidden;text-align: left;background-color: #f0f8ff;}#sk-container-id-4 div.sk-toggleable__content pre {margin: 0.2em;color: black;border-radius: 0.25em;background-color: #f0f8ff;}#sk-container-id-4 input.sk-toggleable__control:checked~div.sk-toggleable__content {max-height: 200px;max-width: 100%;overflow: auto;}#sk-container-id-4 input.sk-toggleable__control:checked~label.sk-toggleable__label-arrow:before {content: \"▾\";}#sk-container-id-4 div.sk-estimator input.sk-toggleable__control:checked~label.sk-toggleable__label {background-color: #d4ebff;}#sk-container-id-4 div.sk-label input.sk-toggleable__control:checked~label.sk-toggleable__label {background-color: #d4ebff;}#sk-container-id-4 input.sk-hidden--visually {border: 0;clip: rect(1px 1px 1px 1px);clip: rect(1px, 1px, 1px, 1px);height: 1px;margin: -1px;overflow: hidden;padding: 0;position: absolute;width: 1px;}#sk-container-id-4 div.sk-estimator {font-family: monospace;background-color: #f0f8ff;border: 1px dotted black;border-radius: 0.25em;box-sizing: border-box;margin-bottom: 0.5em;}#sk-container-id-4 div.sk-estimator:hover {background-color: #d4ebff;}#sk-container-id-4 div.sk-parallel-item::after {content: \"\";width: 100%;border-bottom: 1px solid gray;flex-grow: 1;}#sk-container-id-4 div.sk-label:hover label.sk-toggleable__label {background-color: #d4ebff;}#sk-container-id-4 div.sk-serial::before {content: \"\";position: absolute;border-left: 1px solid gray;box-sizing: border-box;top: 0;bottom: 0;left: 50%;z-index: 0;}#sk-container-id-4 div.sk-serial {display: flex;flex-direction: column;align-items: center;background-color: white;padding-right: 0.2em;padding-left: 0.2em;position: relative;}#sk-container-id-4 div.sk-item {position: relative;z-index: 1;}#sk-container-id-4 div.sk-parallel {display: flex;align-items: stretch;justify-content: center;background-color: white;position: relative;}#sk-container-id-4 div.sk-item::before, #sk-container-id-4 div.sk-parallel-item::before {content: \"\";position: absolute;border-left: 1px solid gray;box-sizing: border-box;top: 0;bottom: 0;left: 50%;z-index: -1;}#sk-container-id-4 div.sk-parallel-item {display: flex;flex-direction: column;z-index: 1;position: relative;background-color: white;}#sk-container-id-4 div.sk-parallel-item:first-child::after {align-self: flex-end;width: 50%;}#sk-container-id-4 div.sk-parallel-item:last-child::after {align-self: flex-start;width: 50%;}#sk-container-id-4 div.sk-parallel-item:only-child::after {width: 0;}#sk-container-id-4 div.sk-dashed-wrapped {border: 1px dashed gray;margin: 0 0.4em 0.5em 0.4em;box-sizing: border-box;padding-bottom: 0.4em;background-color: white;}#sk-container-id-4 div.sk-label label {font-family: monospace;font-weight: bold;display: inline-block;line-height: 1.2em;}#sk-container-id-4 div.sk-label-container {text-align: center;}#sk-container-id-4 div.sk-container {/* jupyter's `normalize.less` sets `[hidden] { display: none; }` but bootstrap.min.css set `[hidden] { display: none !important; }` so we also need the `!important` here to be able to override the default hidden behavior on the sphinx rendered scikit-learn.org. See: https://github.com/scikit-learn/scikit-learn/issues/21755 */display: inline-block !important;position: relative;}#sk-container-id-4 div.sk-text-repr-fallback {display: none;}</style><div id=\"sk-container-id-4\" class=\"sk-top-container\"><div class=\"sk-text-repr-fallback\"><pre>GradientBoostingRegressor()</pre><b>In a Jupyter environment, please rerun this cell to show the HTML representation or trust the notebook. <br />On GitHub, the HTML representation is unable to render, please try loading this page with nbviewer.org.</b></div><div class=\"sk-container\" hidden><div class=\"sk-item\"><div class=\"sk-estimator sk-toggleable\"><input class=\"sk-toggleable__control sk-hidden--visually\" id=\"sk-estimator-id-4\" type=\"checkbox\" checked><label for=\"sk-estimator-id-4\" class=\"sk-toggleable__label sk-toggleable__label-arrow\">GradientBoostingRegressor</label><div class=\"sk-toggleable__content\"><pre>GradientBoostingRegressor()</pre></div></div></div></div></div>"
      ],
      "text/plain": [
       "GradientBoostingRegressor()"
      ]
     },
     "execution_count": 24,
     "metadata": {},
     "output_type": "execute_result"
    }
   ],
   "source": [
    "model_gbr.fit(X_train_dt,y_train_dt)"
   ]
  },
  {
   "cell_type": "code",
   "execution_count": 25,
   "metadata": {},
   "outputs": [
    {
     "data": {
      "text/plain": [
       "(0.11818224911195449, 0.3437764522359763, 0.8742872600367271, None, None)"
      ]
     },
     "execution_count": 25,
     "metadata": {},
     "output_type": "execute_result"
    }
   ],
   "source": [
    "metrics_gbr=model_performance(X_train_dt,X_test_dt,y_train_dt,y_test_dt,model_gbr)\n",
    "metrics_gbr"
   ]
  },
  {
   "cell_type": "code",
   "execution_count": 26,
   "metadata": {},
   "outputs": [
    {
     "name": "stdout",
     "output_type": "stream",
     "text": [
      "R2 score on Training data using Random Forest: 0.9367871391362556\n",
      "R2 Score on Test data using Random Forest: 0.8742872600367271\n"
     ]
    }
   ],
   "source": [
    "r2_train_gbr=model_gbr.score(X_train_dt,y_train_dt)\n",
    "r2_test_gbr=metrics_gbr[2]\n",
    "print('R2 score on Training data using Random Forest:',r2_train_gbr)\n",
    "print('R2 Score on Test data using Random Forest:',r2_test_gbr)"
   ]
  },
  {
   "cell_type": "markdown",
   "metadata": {},
   "source": [
    "Although there is a chance of overfitting the data it seems to predict has impoved from the previous models."
   ]
  },
  {
   "cell_type": "code",
   "execution_count": 27,
   "metadata": {},
   "outputs": [
    {
     "name": "stdout",
     "output_type": "stream",
     "text": [
      "Average accuracy:  0.8922119825965596\n",
      "Standard Deviation:  0.02832003114767999\n"
     ]
    }
   ],
   "source": [
    "num_folds = 18\n",
    "seed = 95\n",
    "kfold = KFold(n_splits=num_folds, random_state=seed,shuffle=True)\n",
    "results3 = cross_val_score(model_gbr,X_dt, y_dt, cv=kfold)\n",
    "accuracy3=np.mean(abs(results3))\n",
    "print('Average accuracy: ',accuracy3)\n",
    "print('Standard Deviation: ',results3.std())"
   ]
  },
  {
   "cell_type": "markdown",
   "metadata": {},
   "source": [
    "The accuracy of k-folds random forest for the feature selected increased from 87.44 to 89.207."
   ]
  },
  {
   "cell_type": "markdown",
   "metadata": {},
   "source": [
    "As there is a still chance of overfitting , we can use neural network model to check the variability and complexity of the data."
   ]
  },
  {
   "cell_type": "markdown",
   "metadata": {},
   "source": [
    "## Neural Network - MLP Regressor"
   ]
  },
  {
   "cell_type": "markdown",
   "metadata": {},
   "source": [
    "I choose MLP (Multi-layer Perceptron) Regressor, as it can be utlised to check the complexity of the model,that can regularise the date using L1,L2 techniques , results in early stopping of overfitting.MLP can scale well with large datasets with high-dimensionality. It is also flexible as you can specify the number of hidden layers as well as specifiy neurons in each layer."
   ]
  },
  {
   "cell_type": "code",
   "execution_count": 28,
   "metadata": {},
   "outputs": [],
   "source": [
    "from sklearn.neural_network import MLPRegressor"
   ]
  },
  {
   "cell_type": "code",
   "execution_count": 29,
   "metadata": {},
   "outputs": [
    {
     "name": "stdout",
     "output_type": "stream",
     "text": [
      "Iteration 1, loss = 0.28612043\n",
      "Iteration 2, loss = 0.12548635\n",
      "Iteration 3, loss = 0.08126062\n",
      "Iteration 4, loss = 0.06563560\n",
      "Iteration 5, loss = 0.05343751\n",
      "Iteration 6, loss = 0.05023000\n",
      "Iteration 7, loss = 0.04811364\n",
      "Iteration 8, loss = 0.04819986\n",
      "Iteration 9, loss = 0.04262424\n",
      "Iteration 10, loss = 0.03838957\n",
      "Iteration 11, loss = 0.03513577\n",
      "Iteration 12, loss = 0.03407991\n",
      "Iteration 13, loss = 0.03267124\n",
      "Iteration 14, loss = 0.02944192\n",
      "Iteration 15, loss = 0.02861772\n",
      "Iteration 16, loss = 0.02762309\n",
      "Iteration 17, loss = 0.02638807\n",
      "Iteration 18, loss = 0.02466585\n",
      "Iteration 19, loss = 0.02395904\n",
      "Iteration 20, loss = 0.02421606\n",
      "Iteration 21, loss = 0.02401702\n",
      "Iteration 22, loss = 0.02500842\n",
      "Iteration 23, loss = 0.02237475\n",
      "Iteration 24, loss = 0.02223935\n",
      "Iteration 25, loss = 0.02470641\n",
      "Iteration 26, loss = 0.02160999\n",
      "Iteration 27, loss = 0.02186928\n",
      "Iteration 28, loss = 0.02221456\n",
      "Iteration 29, loss = 0.02120371\n",
      "Iteration 30, loss = 0.01990535\n",
      "Iteration 31, loss = 0.02298671\n",
      "Iteration 32, loss = 0.02778807\n",
      "Iteration 33, loss = 0.03355787\n",
      "Iteration 34, loss = 0.02310921\n",
      "Iteration 35, loss = 0.02129359\n",
      "Iteration 36, loss = 0.01971989\n",
      "Iteration 37, loss = 0.02035056\n",
      "Iteration 38, loss = 0.01826734\n",
      "Iteration 39, loss = 0.01881658\n",
      "Iteration 40, loss = 0.01732720\n",
      "Iteration 41, loss = 0.01777957\n",
      "Iteration 42, loss = 0.01703913\n",
      "Iteration 43, loss = 0.01676702\n",
      "Iteration 44, loss = 0.01687275\n",
      "Iteration 45, loss = 0.01702677\n",
      "Iteration 46, loss = 0.01898627\n",
      "Iteration 47, loss = 0.01758388\n",
      "Iteration 48, loss = 0.01737098\n",
      "Iteration 49, loss = 0.01686841\n",
      "Iteration 50, loss = 0.01614451\n",
      "Iteration 51, loss = 0.01805684\n",
      "Iteration 52, loss = 0.01835438\n",
      "Iteration 53, loss = 0.01751036\n",
      "Iteration 54, loss = 0.01481769\n",
      "Iteration 55, loss = 0.01374645\n",
      "Iteration 56, loss = 0.01426501\n",
      "Iteration 57, loss = 0.01601736\n",
      "Iteration 58, loss = 0.01521842\n",
      "Iteration 59, loss = 0.01420831\n",
      "Iteration 60, loss = 0.01396252\n",
      "Iteration 61, loss = 0.01291424\n",
      "Iteration 62, loss = 0.01527970\n",
      "Iteration 63, loss = 0.01704295\n",
      "Iteration 64, loss = 0.01647558\n",
      "Iteration 65, loss = 0.01415155\n",
      "Iteration 66, loss = 0.01352738\n",
      "Iteration 67, loss = 0.01225912\n",
      "Iteration 68, loss = 0.01282949\n",
      "Iteration 69, loss = 0.01300714\n",
      "Iteration 70, loss = 0.01511866\n",
      "Iteration 71, loss = 0.01499637\n",
      "Iteration 72, loss = 0.01620565\n",
      "Iteration 73, loss = 0.01634196\n",
      "Iteration 74, loss = 0.01600767\n",
      "Iteration 75, loss = 0.01742394\n",
      "Iteration 76, loss = 0.01273772\n",
      "Iteration 77, loss = 0.01227423\n",
      "Iteration 78, loss = 0.01247757\n",
      "Iteration 79, loss = 0.01382398\n",
      "Iteration 80, loss = 0.01606880\n",
      "Iteration 81, loss = 0.01406463\n",
      "Iteration 82, loss = 0.01497669\n",
      "Iteration 83, loss = 0.01718577\n",
      "Iteration 84, loss = 0.01392670\n",
      "Iteration 85, loss = 0.01443136\n",
      "Iteration 86, loss = 0.01321944\n",
      "Iteration 87, loss = 0.01175854\n",
      "Iteration 88, loss = 0.01118940\n",
      "Iteration 89, loss = 0.01128888\n",
      "Iteration 90, loss = 0.01352204\n",
      "Iteration 91, loss = 0.01972918\n",
      "Iteration 92, loss = 0.01645470\n",
      "Iteration 93, loss = 0.01525789\n",
      "Iteration 94, loss = 0.01091479\n",
      "Iteration 95, loss = 0.01156874\n",
      "Iteration 96, loss = 0.01459737\n",
      "Iteration 97, loss = 0.01507699\n",
      "Iteration 98, loss = 0.01262017\n",
      "Iteration 99, loss = 0.01125031\n",
      "Iteration 100, loss = 0.01129088\n",
      "Iteration 101, loss = 0.01137800\n",
      "Iteration 102, loss = 0.01105842\n",
      "Iteration 103, loss = 0.01106663\n",
      "Iteration 104, loss = 0.01150274\n",
      "Iteration 105, loss = 0.01210725\n",
      "Iteration 106, loss = 0.01237122\n",
      "Iteration 107, loss = 0.01089360\n",
      "Iteration 108, loss = 0.01179257\n",
      "Iteration 109, loss = 0.01400194\n",
      "Iteration 110, loss = 0.01427590\n",
      "Iteration 111, loss = 0.01185744\n",
      "Iteration 112, loss = 0.01353049\n",
      "Iteration 113, loss = 0.01136661\n",
      "Iteration 114, loss = 0.01048425\n",
      "Iteration 115, loss = 0.00977068\n",
      "Iteration 116, loss = 0.00998965\n",
      "Iteration 117, loss = 0.01582044\n",
      "Iteration 118, loss = 0.01340708\n",
      "Iteration 119, loss = 0.01394788\n",
      "Iteration 120, loss = 0.01177118\n",
      "Iteration 121, loss = 0.00984618\n",
      "Iteration 122, loss = 0.00943799\n",
      "Iteration 123, loss = 0.01045418\n",
      "Iteration 124, loss = 0.01059722\n",
      "Iteration 125, loss = 0.01266194\n",
      "Iteration 126, loss = 0.01150858\n",
      "Iteration 127, loss = 0.01059414\n",
      "Iteration 128, loss = 0.01000268\n",
      "Iteration 129, loss = 0.00932572\n",
      "Iteration 130, loss = 0.00866134\n",
      "Iteration 131, loss = 0.00932842\n",
      "Iteration 132, loss = 0.00979235\n",
      "Iteration 133, loss = 0.00912202\n",
      "Iteration 134, loss = 0.00879524\n",
      "Iteration 135, loss = 0.00950700\n",
      "Iteration 136, loss = 0.00924325\n",
      "Iteration 137, loss = 0.01098243\n",
      "Iteration 138, loss = 0.01031615\n",
      "Iteration 139, loss = 0.01236740\n",
      "Iteration 140, loss = 0.01042663\n",
      "Iteration 141, loss = 0.01043497\n",
      "Iteration 142, loss = 0.01225220\n",
      "Iteration 143, loss = 0.01231477\n",
      "Iteration 144, loss = 0.01039448\n",
      "Iteration 145, loss = 0.01142487\n",
      "Iteration 146, loss = 0.01267215\n",
      "Iteration 147, loss = 0.01097362\n",
      "Iteration 148, loss = 0.01300291\n",
      "Iteration 149, loss = 0.01310129\n",
      "Iteration 150, loss = 0.01063948\n",
      "Iteration 151, loss = 0.01092620\n",
      "Training loss did not improve more than tol=0.000100 for 20 consecutive epochs. Stopping.\n"
     ]
    },
    {
     "data": {
      "text/html": [
       "<style>#sk-container-id-5 {color: black;background-color: white;}#sk-container-id-5 pre{padding: 0;}#sk-container-id-5 div.sk-toggleable {background-color: white;}#sk-container-id-5 label.sk-toggleable__label {cursor: pointer;display: block;width: 100%;margin-bottom: 0;padding: 0.3em;box-sizing: border-box;text-align: center;}#sk-container-id-5 label.sk-toggleable__label-arrow:before {content: \"▸\";float: left;margin-right: 0.25em;color: #696969;}#sk-container-id-5 label.sk-toggleable__label-arrow:hover:before {color: black;}#sk-container-id-5 div.sk-estimator:hover label.sk-toggleable__label-arrow:before {color: black;}#sk-container-id-5 div.sk-toggleable__content {max-height: 0;max-width: 0;overflow: hidden;text-align: left;background-color: #f0f8ff;}#sk-container-id-5 div.sk-toggleable__content pre {margin: 0.2em;color: black;border-radius: 0.25em;background-color: #f0f8ff;}#sk-container-id-5 input.sk-toggleable__control:checked~div.sk-toggleable__content {max-height: 200px;max-width: 100%;overflow: auto;}#sk-container-id-5 input.sk-toggleable__control:checked~label.sk-toggleable__label-arrow:before {content: \"▾\";}#sk-container-id-5 div.sk-estimator input.sk-toggleable__control:checked~label.sk-toggleable__label {background-color: #d4ebff;}#sk-container-id-5 div.sk-label input.sk-toggleable__control:checked~label.sk-toggleable__label {background-color: #d4ebff;}#sk-container-id-5 input.sk-hidden--visually {border: 0;clip: rect(1px 1px 1px 1px);clip: rect(1px, 1px, 1px, 1px);height: 1px;margin: -1px;overflow: hidden;padding: 0;position: absolute;width: 1px;}#sk-container-id-5 div.sk-estimator {font-family: monospace;background-color: #f0f8ff;border: 1px dotted black;border-radius: 0.25em;box-sizing: border-box;margin-bottom: 0.5em;}#sk-container-id-5 div.sk-estimator:hover {background-color: #d4ebff;}#sk-container-id-5 div.sk-parallel-item::after {content: \"\";width: 100%;border-bottom: 1px solid gray;flex-grow: 1;}#sk-container-id-5 div.sk-label:hover label.sk-toggleable__label {background-color: #d4ebff;}#sk-container-id-5 div.sk-serial::before {content: \"\";position: absolute;border-left: 1px solid gray;box-sizing: border-box;top: 0;bottom: 0;left: 50%;z-index: 0;}#sk-container-id-5 div.sk-serial {display: flex;flex-direction: column;align-items: center;background-color: white;padding-right: 0.2em;padding-left: 0.2em;position: relative;}#sk-container-id-5 div.sk-item {position: relative;z-index: 1;}#sk-container-id-5 div.sk-parallel {display: flex;align-items: stretch;justify-content: center;background-color: white;position: relative;}#sk-container-id-5 div.sk-item::before, #sk-container-id-5 div.sk-parallel-item::before {content: \"\";position: absolute;border-left: 1px solid gray;box-sizing: border-box;top: 0;bottom: 0;left: 50%;z-index: -1;}#sk-container-id-5 div.sk-parallel-item {display: flex;flex-direction: column;z-index: 1;position: relative;background-color: white;}#sk-container-id-5 div.sk-parallel-item:first-child::after {align-self: flex-end;width: 50%;}#sk-container-id-5 div.sk-parallel-item:last-child::after {align-self: flex-start;width: 50%;}#sk-container-id-5 div.sk-parallel-item:only-child::after {width: 0;}#sk-container-id-5 div.sk-dashed-wrapped {border: 1px dashed gray;margin: 0 0.4em 0.5em 0.4em;box-sizing: border-box;padding-bottom: 0.4em;background-color: white;}#sk-container-id-5 div.sk-label label {font-family: monospace;font-weight: bold;display: inline-block;line-height: 1.2em;}#sk-container-id-5 div.sk-label-container {text-align: center;}#sk-container-id-5 div.sk-container {/* jupyter's `normalize.less` sets `[hidden] { display: none; }` but bootstrap.min.css set `[hidden] { display: none !important; }` so we also need the `!important` here to be able to override the default hidden behavior on the sphinx rendered scikit-learn.org. See: https://github.com/scikit-learn/scikit-learn/issues/21755 */display: inline-block !important;position: relative;}#sk-container-id-5 div.sk-text-repr-fallback {display: none;}</style><div id=\"sk-container-id-5\" class=\"sk-top-container\"><div class=\"sk-text-repr-fallback\"><pre>MLPRegressor(batch_size=64, hidden_layer_sizes=(512, 256, 128, 64),\n",
       "             max_iter=1000, n_iter_no_change=20, random_state=2,\n",
       "             validation_fraction=0.2, verbose=True)</pre><b>In a Jupyter environment, please rerun this cell to show the HTML representation or trust the notebook. <br />On GitHub, the HTML representation is unable to render, please try loading this page with nbviewer.org.</b></div><div class=\"sk-container\" hidden><div class=\"sk-item\"><div class=\"sk-estimator sk-toggleable\"><input class=\"sk-toggleable__control sk-hidden--visually\" id=\"sk-estimator-id-5\" type=\"checkbox\" checked><label for=\"sk-estimator-id-5\" class=\"sk-toggleable__label sk-toggleable__label-arrow\">MLPRegressor</label><div class=\"sk-toggleable__content\"><pre>MLPRegressor(batch_size=64, hidden_layer_sizes=(512, 256, 128, 64),\n",
       "             max_iter=1000, n_iter_no_change=20, random_state=2,\n",
       "             validation_fraction=0.2, verbose=True)</pre></div></div></div></div></div>"
      ],
      "text/plain": [
       "MLPRegressor(batch_size=64, hidden_layer_sizes=(512, 256, 128, 64),\n",
       "             max_iter=1000, n_iter_no_change=20, random_state=2,\n",
       "             validation_fraction=0.2, verbose=True)"
      ]
     },
     "execution_count": 29,
     "metadata": {},
     "output_type": "execute_result"
    }
   ],
   "source": [
    "model_mlp =  MLPRegressor(hidden_layer_sizes=(512,256,128,64), max_iter=1000, random_state=2, n_iter_no_change=20 ,validation_fraction=0.2, batch_size=64, verbose=True, activation='relu')\n",
    "model_mlp.fit(X_train,y_train)"
   ]
  },
  {
   "cell_type": "code",
   "execution_count": 30,
   "metadata": {},
   "outputs": [
    {
     "name": "stdout",
     "output_type": "stream",
     "text": [
      "Iteration 1, loss = 0.28612043\n",
      "Iteration 2, loss = 0.12548635\n",
      "Iteration 3, loss = 0.08126062\n",
      "Iteration 4, loss = 0.06563560\n",
      "Iteration 5, loss = 0.05343751\n",
      "Iteration 6, loss = 0.05023000\n",
      "Iteration 7, loss = 0.04811364\n",
      "Iteration 8, loss = 0.04819986\n",
      "Iteration 9, loss = 0.04262424\n",
      "Iteration 10, loss = 0.03838957\n",
      "Iteration 11, loss = 0.03513577\n",
      "Iteration 12, loss = 0.03407991\n",
      "Iteration 13, loss = 0.03267124\n",
      "Iteration 14, loss = 0.02944192\n",
      "Iteration 15, loss = 0.02861772\n",
      "Iteration 16, loss = 0.02762309\n",
      "Iteration 17, loss = 0.02638807\n",
      "Iteration 18, loss = 0.02466585\n",
      "Iteration 19, loss = 0.02395904\n",
      "Iteration 20, loss = 0.02421606\n",
      "Iteration 21, loss = 0.02401702\n",
      "Iteration 22, loss = 0.02500842\n",
      "Iteration 23, loss = 0.02237475\n",
      "Iteration 24, loss = 0.02223935\n",
      "Iteration 25, loss = 0.02470641\n",
      "Iteration 26, loss = 0.02160999\n",
      "Iteration 27, loss = 0.02186928\n",
      "Iteration 28, loss = 0.02221456\n",
      "Iteration 29, loss = 0.02120371\n",
      "Iteration 30, loss = 0.01990535\n",
      "Iteration 31, loss = 0.02298671\n",
      "Iteration 32, loss = 0.02778807\n",
      "Iteration 33, loss = 0.03355787\n",
      "Iteration 34, loss = 0.02310921\n",
      "Iteration 35, loss = 0.02129359\n",
      "Iteration 36, loss = 0.01971989\n",
      "Iteration 37, loss = 0.02035056\n",
      "Iteration 38, loss = 0.01826734\n",
      "Iteration 39, loss = 0.01881658\n",
      "Iteration 40, loss = 0.01732720\n",
      "Iteration 41, loss = 0.01777957\n",
      "Iteration 42, loss = 0.01703913\n",
      "Iteration 43, loss = 0.01676702\n",
      "Iteration 44, loss = 0.01687275\n",
      "Iteration 45, loss = 0.01702677\n",
      "Iteration 46, loss = 0.01898627\n",
      "Iteration 47, loss = 0.01758388\n",
      "Iteration 48, loss = 0.01737098\n",
      "Iteration 49, loss = 0.01686841\n",
      "Iteration 50, loss = 0.01614451\n",
      "Iteration 51, loss = 0.01805684\n",
      "Iteration 52, loss = 0.01835438\n",
      "Iteration 53, loss = 0.01751036\n",
      "Iteration 54, loss = 0.01481769\n",
      "Iteration 55, loss = 0.01374645\n",
      "Iteration 56, loss = 0.01426501\n",
      "Iteration 57, loss = 0.01601736\n",
      "Iteration 58, loss = 0.01521842\n",
      "Iteration 59, loss = 0.01420831\n",
      "Iteration 60, loss = 0.01396252\n",
      "Iteration 61, loss = 0.01291424\n",
      "Iteration 62, loss = 0.01527970\n",
      "Iteration 63, loss = 0.01704295\n",
      "Iteration 64, loss = 0.01647558\n",
      "Iteration 65, loss = 0.01415155\n",
      "Iteration 66, loss = 0.01352738\n",
      "Iteration 67, loss = 0.01225912\n",
      "Iteration 68, loss = 0.01282949\n",
      "Iteration 69, loss = 0.01300714\n",
      "Iteration 70, loss = 0.01511866\n",
      "Iteration 71, loss = 0.01499637\n",
      "Iteration 72, loss = 0.01620565\n",
      "Iteration 73, loss = 0.01634196\n",
      "Iteration 74, loss = 0.01600767\n",
      "Iteration 75, loss = 0.01742394\n",
      "Iteration 76, loss = 0.01273772\n",
      "Iteration 77, loss = 0.01227423\n",
      "Iteration 78, loss = 0.01247757\n",
      "Iteration 79, loss = 0.01382398\n",
      "Iteration 80, loss = 0.01606880\n",
      "Iteration 81, loss = 0.01406463\n",
      "Iteration 82, loss = 0.01497669\n",
      "Iteration 83, loss = 0.01718577\n",
      "Iteration 84, loss = 0.01392670\n",
      "Iteration 85, loss = 0.01443136\n",
      "Iteration 86, loss = 0.01321944\n",
      "Iteration 87, loss = 0.01175854\n",
      "Iteration 88, loss = 0.01118940\n",
      "Iteration 89, loss = 0.01128888\n",
      "Iteration 90, loss = 0.01352204\n",
      "Iteration 91, loss = 0.01972918\n",
      "Iteration 92, loss = 0.01645470\n",
      "Iteration 93, loss = 0.01525789\n",
      "Iteration 94, loss = 0.01091479\n",
      "Iteration 95, loss = 0.01156874\n",
      "Iteration 96, loss = 0.01459737\n",
      "Iteration 97, loss = 0.01507699\n",
      "Iteration 98, loss = 0.01262017\n",
      "Iteration 99, loss = 0.01125031\n",
      "Iteration 100, loss = 0.01129088\n",
      "Iteration 101, loss = 0.01137800\n",
      "Iteration 102, loss = 0.01105842\n",
      "Iteration 103, loss = 0.01106663\n",
      "Iteration 104, loss = 0.01150274\n",
      "Iteration 105, loss = 0.01210725\n",
      "Iteration 106, loss = 0.01237122\n",
      "Iteration 107, loss = 0.01089360\n",
      "Iteration 108, loss = 0.01179257\n",
      "Iteration 109, loss = 0.01400194\n",
      "Iteration 110, loss = 0.01427590\n",
      "Iteration 111, loss = 0.01185744\n",
      "Iteration 112, loss = 0.01353049\n",
      "Iteration 113, loss = 0.01136661\n",
      "Iteration 114, loss = 0.01048425\n",
      "Iteration 115, loss = 0.00977068\n",
      "Iteration 116, loss = 0.00998965\n",
      "Iteration 117, loss = 0.01582044\n",
      "Iteration 118, loss = 0.01340708\n",
      "Iteration 119, loss = 0.01394788\n",
      "Iteration 120, loss = 0.01177118\n",
      "Iteration 121, loss = 0.00984618\n",
      "Iteration 122, loss = 0.00943799\n",
      "Iteration 123, loss = 0.01045418\n",
      "Iteration 124, loss = 0.01059722\n",
      "Iteration 125, loss = 0.01266194\n",
      "Iteration 126, loss = 0.01150858\n",
      "Iteration 127, loss = 0.01059414\n",
      "Iteration 128, loss = 0.01000268\n",
      "Iteration 129, loss = 0.00932572\n",
      "Iteration 130, loss = 0.00866134\n",
      "Iteration 131, loss = 0.00932842\n",
      "Iteration 132, loss = 0.00979235\n",
      "Iteration 133, loss = 0.00912202\n",
      "Iteration 134, loss = 0.00879524\n",
      "Iteration 135, loss = 0.00950700\n",
      "Iteration 136, loss = 0.00924325\n",
      "Iteration 137, loss = 0.01098243\n",
      "Iteration 138, loss = 0.01031615\n",
      "Iteration 139, loss = 0.01236740\n",
      "Iteration 140, loss = 0.01042663\n",
      "Iteration 141, loss = 0.01043497\n",
      "Iteration 142, loss = 0.01225220\n",
      "Iteration 143, loss = 0.01231477\n",
      "Iteration 144, loss = 0.01039448\n",
      "Iteration 145, loss = 0.01142487\n",
      "Iteration 146, loss = 0.01267215\n",
      "Iteration 147, loss = 0.01097362\n",
      "Iteration 148, loss = 0.01300291\n",
      "Iteration 149, loss = 0.01310129\n",
      "Iteration 150, loss = 0.01063948\n",
      "Iteration 151, loss = 0.01092620\n",
      "Training loss did not improve more than tol=0.000100 for 20 consecutive epochs. Stopping.\n"
     ]
    },
    {
     "data": {
      "text/plain": [
       "(0.1102412491441393, 0.3320259766104744, 0.8827342550085069, None, None)"
      ]
     },
     "execution_count": 30,
     "metadata": {},
     "output_type": "execute_result"
    }
   ],
   "source": [
    "metrics_mlp=model_performance(X_train, X_test, y_train, y_test,model_mlp)\n",
    "metrics_mlp"
   ]
  },
  {
   "cell_type": "code",
   "execution_count": 31,
   "metadata": {},
   "outputs": [
    {
     "name": "stdout",
     "output_type": "stream",
     "text": [
      "R2 score on Training data using Random Forest: 0.9854534382549154\n",
      "R2 Score on Test data using Random Forest: 0.8827342550085069\n"
     ]
    }
   ],
   "source": [
    "r2_train_mlp=model_mlp.score(X_train,y_train)\n",
    "r2_test_mlp=metrics_mlp[2]\n",
    "print('R2 score on Training data using Random Forest:',r2_train_mlp)\n",
    "print('R2 Score on Test data using Random Forest:',r2_test_mlp)"
   ]
  },
  {
   "cell_type": "markdown",
   "metadata": {},
   "source": [
    "This model also seems to be overfitting because the dimensionality of data seems to be less "
   ]
  },
  {
   "cell_type": "markdown",
   "metadata": {},
   "source": [
    "Based on the above models, the random forest regressor, random forest with k folds, Gradient Boosting regressor, Gradient Boosting regressor with k folds seems to performing well. Lets perform hyperparamter tuning for both these models."
   ]
  },
  {
   "cell_type": "code",
   "execution_count": 32,
   "metadata": {},
   "outputs": [
    {
     "name": "stdout",
     "output_type": "stream",
     "text": [
      "Fitting 2 folds for each of 10 candidates, totalling 20 fits\n"
     ]
    },
    {
     "name": "stdout",
     "output_type": "stream",
     "text": [
      "Best parameter: {'n_estimators': 1155, 'min_samples_split': 3, 'min_samples_leaf': 1, 'max_features': 'auto', 'max_depth': 91}\n"
     ]
    }
   ],
   "source": [
    "from sklearn.model_selection import RandomizedSearchCV  \n",
    "#In random forest we are not used grid search CV because of memory reason.\n",
    "\n",
    "n_estimators = [int(x) for x in np.linspace(start=100 ,stop=2000, num=10)] #No of decision tree in forest\n",
    "max_features = ['auto', 'sqrt'] #Max no of feature consider to create decision tree\n",
    "max_depth    = [int(x) for x in np.linspace(10,100,num=11)] #Max no of level in each decision tree\n",
    "max_depth.append(None)\n",
    "min_samples_split = [2,3,5,8] #Min number of data points placed in a node before the node is split\n",
    "min_samples_leaf  = [1,2,3,4]  #Min number of data point allowed in leaf node\n",
    "\n",
    "# Creating dictionary of paramter\n",
    "random_grid = {'n_estimators': n_estimators, 'max_features': max_features,\n",
    "               'max_depth': max_depth, 'min_samples_split': min_samples_split,\n",
    "               'min_samples_leaf': min_samples_leaf}\n",
    "\n",
    "# Object creation\n",
    "rf_clf = RandomForestRegressor(random_state=42) #Provide random state because select rows and columns randomly\n",
    "\n",
    "# Create Random search CV with parameter\n",
    "rf_cv = RandomizedSearchCV(estimator=rf_clf,scoring='r2',param_distributions=random_grid,\n",
    "                           n_iter=10,cv=2,verbose=2,random_state=1,n_jobs=-1)\n",
    "\n",
    "# Fitting the training data\n",
    "rf_cv.fit(X_train_dt,y_train_dt)\n",
    "\n",
    "# Get best parameter\n",
    "rf_best_params = rf_cv.best_params_\n",
    "print(f\"Best parameter: {rf_best_params}\")"
   ]
  },
  {
   "cell_type": "code",
   "execution_count": 33,
   "metadata": {},
   "outputs": [
    {
     "data": {
      "text/html": [
       "<style>#sk-container-id-6 {color: black;background-color: white;}#sk-container-id-6 pre{padding: 0;}#sk-container-id-6 div.sk-toggleable {background-color: white;}#sk-container-id-6 label.sk-toggleable__label {cursor: pointer;display: block;width: 100%;margin-bottom: 0;padding: 0.3em;box-sizing: border-box;text-align: center;}#sk-container-id-6 label.sk-toggleable__label-arrow:before {content: \"▸\";float: left;margin-right: 0.25em;color: #696969;}#sk-container-id-6 label.sk-toggleable__label-arrow:hover:before {color: black;}#sk-container-id-6 div.sk-estimator:hover label.sk-toggleable__label-arrow:before {color: black;}#sk-container-id-6 div.sk-toggleable__content {max-height: 0;max-width: 0;overflow: hidden;text-align: left;background-color: #f0f8ff;}#sk-container-id-6 div.sk-toggleable__content pre {margin: 0.2em;color: black;border-radius: 0.25em;background-color: #f0f8ff;}#sk-container-id-6 input.sk-toggleable__control:checked~div.sk-toggleable__content {max-height: 200px;max-width: 100%;overflow: auto;}#sk-container-id-6 input.sk-toggleable__control:checked~label.sk-toggleable__label-arrow:before {content: \"▾\";}#sk-container-id-6 div.sk-estimator input.sk-toggleable__control:checked~label.sk-toggleable__label {background-color: #d4ebff;}#sk-container-id-6 div.sk-label input.sk-toggleable__control:checked~label.sk-toggleable__label {background-color: #d4ebff;}#sk-container-id-6 input.sk-hidden--visually {border: 0;clip: rect(1px 1px 1px 1px);clip: rect(1px, 1px, 1px, 1px);height: 1px;margin: -1px;overflow: hidden;padding: 0;position: absolute;width: 1px;}#sk-container-id-6 div.sk-estimator {font-family: monospace;background-color: #f0f8ff;border: 1px dotted black;border-radius: 0.25em;box-sizing: border-box;margin-bottom: 0.5em;}#sk-container-id-6 div.sk-estimator:hover {background-color: #d4ebff;}#sk-container-id-6 div.sk-parallel-item::after {content: \"\";width: 100%;border-bottom: 1px solid gray;flex-grow: 1;}#sk-container-id-6 div.sk-label:hover label.sk-toggleable__label {background-color: #d4ebff;}#sk-container-id-6 div.sk-serial::before {content: \"\";position: absolute;border-left: 1px solid gray;box-sizing: border-box;top: 0;bottom: 0;left: 50%;z-index: 0;}#sk-container-id-6 div.sk-serial {display: flex;flex-direction: column;align-items: center;background-color: white;padding-right: 0.2em;padding-left: 0.2em;position: relative;}#sk-container-id-6 div.sk-item {position: relative;z-index: 1;}#sk-container-id-6 div.sk-parallel {display: flex;align-items: stretch;justify-content: center;background-color: white;position: relative;}#sk-container-id-6 div.sk-item::before, #sk-container-id-6 div.sk-parallel-item::before {content: \"\";position: absolute;border-left: 1px solid gray;box-sizing: border-box;top: 0;bottom: 0;left: 50%;z-index: -1;}#sk-container-id-6 div.sk-parallel-item {display: flex;flex-direction: column;z-index: 1;position: relative;background-color: white;}#sk-container-id-6 div.sk-parallel-item:first-child::after {align-self: flex-end;width: 50%;}#sk-container-id-6 div.sk-parallel-item:last-child::after {align-self: flex-start;width: 50%;}#sk-container-id-6 div.sk-parallel-item:only-child::after {width: 0;}#sk-container-id-6 div.sk-dashed-wrapped {border: 1px dashed gray;margin: 0 0.4em 0.5em 0.4em;box-sizing: border-box;padding-bottom: 0.4em;background-color: white;}#sk-container-id-6 div.sk-label label {font-family: monospace;font-weight: bold;display: inline-block;line-height: 1.2em;}#sk-container-id-6 div.sk-label-container {text-align: center;}#sk-container-id-6 div.sk-container {/* jupyter's `normalize.less` sets `[hidden] { display: none; }` but bootstrap.min.css set `[hidden] { display: none !important; }` so we also need the `!important` here to be able to override the default hidden behavior on the sphinx rendered scikit-learn.org. See: https://github.com/scikit-learn/scikit-learn/issues/21755 */display: inline-block !important;position: relative;}#sk-container-id-6 div.sk-text-repr-fallback {display: none;}</style><div id=\"sk-container-id-6\" class=\"sk-top-container\"><div class=\"sk-text-repr-fallback\"><pre>RandomForestRegressor(max_depth=91, max_features=&#x27;auto&#x27;, min_samples_split=3,\n",
       "                      n_estimators=1155)</pre><b>In a Jupyter environment, please rerun this cell to show the HTML representation or trust the notebook. <br />On GitHub, the HTML representation is unable to render, please try loading this page with nbviewer.org.</b></div><div class=\"sk-container\" hidden><div class=\"sk-item\"><div class=\"sk-estimator sk-toggleable\"><input class=\"sk-toggleable__control sk-hidden--visually\" id=\"sk-estimator-id-6\" type=\"checkbox\" checked><label for=\"sk-estimator-id-6\" class=\"sk-toggleable__label sk-toggleable__label-arrow\">RandomForestRegressor</label><div class=\"sk-toggleable__content\"><pre>RandomForestRegressor(max_depth=91, max_features=&#x27;auto&#x27;, min_samples_split=3,\n",
       "                      n_estimators=1155)</pre></div></div></div></div></div>"
      ],
      "text/plain": [
       "RandomForestRegressor(max_depth=91, max_features='auto', min_samples_split=3,\n",
       "                      n_estimators=1155)"
      ]
     },
     "execution_count": 33,
     "metadata": {},
     "output_type": "execute_result"
    }
   ],
   "source": [
    "model_rf1= RandomForestRegressor(**rf_best_params)\n",
    "model_rf1.fit(X_train_dt,y_train_dt)\n"
   ]
  },
  {
   "cell_type": "code",
   "execution_count": 34,
   "metadata": {},
   "outputs": [],
   "source": [
    "metrics_rf2=model_performance(X_train_dt,X_test_dt,y_train_dt,y_test_dt,model_rf1)"
   ]
  },
  {
   "cell_type": "code",
   "execution_count": 35,
   "metadata": {},
   "outputs": [
    {
     "name": "stdout",
     "output_type": "stream",
     "text": [
      "R2 score on Training data using Random Forest: 0.977984539188512\n",
      "R2 Score on Test data using Random Forest: 0.8734074620824372\n"
     ]
    }
   ],
   "source": [
    "r2_train_rf2=model_rf1.score(X_train_dt,y_train_dt)\n",
    "r2_test_rf2=metrics_rf2[2]\n",
    "print('R2 score on Training data using Random Forest:',r2_train_rf2)\n",
    "print('R2 Score on Test data using Random Forest:',r2_test_rf2)"
   ]
  },
  {
   "cell_type": "markdown",
   "metadata": {},
   "source": [
    "After hyper parameter tuning of the Random forest, the accuracy of train and test aren't increasing and remaining the same."
   ]
  },
  {
   "cell_type": "markdown",
   "metadata": {},
   "source": [
    "Therefore we would go ahead with interpretation of random forest regressor with confidence interval with bootstrap sampling technique"
   ]
  },
  {
   "cell_type": "code",
   "execution_count": 36,
   "metadata": {},
   "outputs": [],
   "source": [
    "concrete_agg=X.join(y)"
   ]
  },
  {
   "cell_type": "code",
   "execution_count": 37,
   "metadata": {},
   "outputs": [],
   "source": [
    "values = concrete_agg.values\n",
    "\n",
    "n_iterations = 1000\n",
    "\n",
    "n_size = int(len(final_data_z) * 1)    \n",
    "\n",
    "# run bootstrap\n",
    "# empty list that will hold the scores for each bootstrap iteration\n",
    "stats = list()   \n",
    "for i in range(n_iterations):\n",
    "    \n",
    "    train = resample(values, n_samples=n_size)  # Sampling with replacement \n",
    "    test = np.array([x for x in values if x.tolist() not in train.tolist()])  \n",
    "    \n",
    "    \n",
    "     # fit model\n",
    "    rfTree = RandomForestRegressor(max_depth=91, max_features='auto', min_samples_split=3,n_estimators=100)\n",
    "    \n",
    "    rfTree.fit(train[:,:-1], train[:,-1]) \n",
    "    \n",
    "\n",
    "    y_test = test[:,-1]    \n",
    "    \n",
    "    score = rfTree.score(test[:, :-1] , y_test)\n",
    "    predictions = rfTree.predict(test[:, :-1])  \n",
    "\n",
    "    stats.append(score)"
   ]
  },
  {
   "cell_type": "code",
   "execution_count": 38,
   "metadata": {},
   "outputs": [
    {
     "data": {
      "image/png": "[encoded data removed]",
      "text/plain": [
       "<Figure size 640x480 with 1 Axes>"
      ]
     },
     "metadata": {},
     "output_type": "display_data"
    },
    {
     "name": "stdout",
     "output_type": "stream",
     "text": [
      "95.0 confidence interval 84.5% and 90.5%\n"
     ]
    }
   ],
   "source": [
    "from matplotlib import pyplot\n",
    "pyplot.hist(stats)\n",
    "pyplot.show()\n",
    "# confidence intervals\n",
    "alpha = 0.95                             # for 95% confidence \n",
    "p = ((1.0-alpha)/2.0) * 100              # tail regions on right and left .25 on each side indicated by P value (border)\n",
    "lower = max(0.0, np.percentile(stats, p))  \n",
    "p = (alpha+((1.0-alpha)/2.0)) * 100\n",
    "upper = min(1.0, np.percentile(stats, p))\n",
    "print('%.1f confidence interval %.1f%% and %.1f%%' % (alpha*100, lower*100, upper*100))"
   ]
  },
  {
   "cell_type": "markdown",
   "metadata": {},
   "source": [
    "Therefore the confidence interval of th random forest regressor is around 84.5% to 90.9% , this can be used as our primary model. "
   ]
  }
 ],
 "metadata": {
  "kernelspec": {
   "display_name": "base",
   "language": "python",
   "name": "python3"
  },
  "language_info": {
   "codemirror_mode": {
    "name": "ipython",
    "version": 3
   },
   "file_extension": ".py",
   "mimetype": "text/x-python",
   "name": "python",
   "nbconvert_exporter": "python",
   "pygments_lexer": "ipython3",
   "version": "3.10.9"
  }
 },
 "nbformat": 4,
 "nbformat_minor": 2
}
